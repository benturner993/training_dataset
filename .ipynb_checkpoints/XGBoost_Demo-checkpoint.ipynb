{
 "cells": [
  {
   "cell_type": "code",
   "execution_count": 1,
   "metadata": {},
   "outputs": [],
   "source": [
    "# import necessary dependencies\n",
    "import pandas as pd\n",
    "from xgboost import XGBClassifier\n",
    "from sklearn import metrics\n",
    "from sklearn.model_selection import train_test_split\n",
    "from sklearn.metrics import confusion_matrix, accuracy_score, precision_score, \\\n",
    "    recall_score, f1_score, roc_auc_score, matthews_corrcoef"
   ]
  },
  {
   "cell_type": "code",
   "execution_count": 2,
   "metadata": {},
   "outputs": [],
   "source": [
    "# location of train, test and results csvs\n",
    "train='train.csv'\n",
    "test='test.csv'\n",
    "results='results.csv'"
   ]
  },
  {
   "cell_type": "code",
   "execution_count": null,
   "metadata": {},
   "outputs": [],
   "source": [
    "# read in train, test and results using pandas\n",
    "train_df=pd.read_csv(train)\n",
    "test_df=pd.read_csv(test)\n",
    "results_df=pd.read_csv(results)"
   ]
  },
  {
   "cell_type": "code",
   "execution_count": null,
   "metadata": {},
   "outputs": [],
   "source": [
    "list(train_df.columns)"
   ]
  },
  {
   "cell_type": "code",
   "execution_count": null,
   "metadata": {},
   "outputs": [],
   "source": [
    "# select the features to be used as inputs to the model\n",
    "features=['car_value_as_new',\n",
    "'car_year',\n",
    "'pol_holder_age',\n",
    "'pol_holder_licence_length',\n",
    "'car_top_speed',\n",
    "'postcode_rating',\n",
    "'credit_rating',\n",
    "'criminal_convictions']\n",
    "\n",
    "# select the target variable\n",
    "target='large_collision'"
   ]
  },
  {
   "cell_type": "code",
   "execution_count": null,
   "metadata": {},
   "outputs": [],
   "source": [
    "# split train data into X and y\n",
    "X_train = train_df[features]\n",
    "y_train = train_df[target]"
   ]
  },
  {
   "cell_type": "code",
   "execution_count": null,
   "metadata": {},
   "outputs": [],
   "source": [
    "# fit model no training data\n",
    "model = XGBClassifier()\n",
    "model.fit(X_train, y_train)"
   ]
  },
  {
   "cell_type": "code",
   "execution_count": null,
   "metadata": {},
   "outputs": [],
   "source": [
    "# predict on test_df\n",
    "y_pred = model.predict(train_df[features])\n",
    "\n",
    "# actuals\n",
    "y_test=train_df['large_collision']\n",
    "\n",
    "# probability\n",
    "y_pred_prob = model.predict_proba(test_df[features])\n",
    "y_pred_prob=[p[1] for p in y_pred_prob]"
   ]
  },
  {
   "cell_type": "code",
   "execution_count": null,
   "metadata": {},
   "outputs": [],
   "source": [
    "# train results\n",
    "print('Accuracy Score:', accuracy_score(y_test, y_pred))\n",
    "print('Precision Score:', precision_score(y_test, y_pred, average=None))\n",
    "print('Recall Score:', recall_score(y_test, y_pred, average=None))\n",
    "print('F1 Score:', f1_score(y_test, y_pred, average=None))\n",
    "print('AUROC:', roc_auc_score(y_test, y_pred_prob))\n",
    "print('MCC:', matthews_corrcoef(y_test, y_pred), '\\n')"
   ]
  },
  {
   "cell_type": "code",
   "execution_count": null,
   "metadata": {},
   "outputs": [],
   "source": [
    "# predict on test_df\n",
    "y_pred = model.predict(test_df[features])\n",
    "\n",
    "# actuals\n",
    "y_test=test_df['large_collision']\n",
    "\n",
    "# probability\n",
    "y_pred_prob = model.predict_proba(test_df[features])\n",
    "y_pred_prob=[p[1] for p in y_pred_prob]"
   ]
  },
  {
   "cell_type": "code",
   "execution_count": null,
   "metadata": {},
   "outputs": [],
   "source": [
    "# test results\n",
    "print('Accuracy Score:', accuracy_score(y_test, y_pred))\n",
    "print('Precision Score:', precision_score(y_test, y_pred, average=None))\n",
    "print('Recall Score:', recall_score(y_test, y_pred, average=None))\n",
    "print('F1 Score:', f1_score(y_test, y_pred, average=None))\n",
    "print('AUROC:', roc_auc_score(y_test, y_pred_prob))\n",
    "print('MCC:', matthews_corrcoef(y_test, y_pred), '\\n')"
   ]
  },
  {
   "cell_type": "code",
   "execution_count": null,
   "metadata": {},
   "outputs": [],
   "source": [
    "# predict on results_df\n",
    "y_pred = model.predict(results_df[features])\n",
    "\n",
    "# probability\n",
    "y_pred_prob = model.predict_proba(results_df[features])\n",
    "y_pred_prob=[p[1] for p in y_pred_prob]"
   ]
  },
  {
   "cell_type": "code",
   "execution_count": null,
   "metadata": {},
   "outputs": [],
   "source": [
    "# create output table with predictions\n",
    "out_df=pd.DataFrame()\n",
    "out_df['pol_ref']=results_df['pol_ref']\n",
    "out_df['prediction']=y_pred\n",
    "out_df['probability']=y_pred_prob\n",
    "\n",
    "# save to csv and send predictions to Ben or Chelsea\n",
    "out_df.to_csv('predictions.csv', index=False)"
   ]
  }
 ],
 "metadata": {
  "kernelspec": {
   "display_name": "Python 3",
   "language": "python",
   "name": "python3"
  },
  "language_info": {
   "codemirror_mode": {
    "name": "ipython",
    "version": 3
   },
   "file_extension": ".py",
   "mimetype": "text/x-python",
   "name": "python",
   "nbconvert_exporter": "python",
   "pygments_lexer": "ipython3",
   "version": "3.7.0"
  }
 },
 "nbformat": 4,
 "nbformat_minor": 2
}
